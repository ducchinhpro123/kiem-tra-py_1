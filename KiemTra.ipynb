{
 "cells": [
  {
   "cell_type": "markdown",
   "source": [
    "# Câu 1: \n",
    "- <u>*Ví dụ*</u>: chuỗi mẫu: ‘google.com '\n",
    "- <u>*Kết quả mong đợi*</u>: {'g': 2, 'o': 3, 'l': 1, 'e': 1, '.': 1, 'c': 1, 'm': 1}"
   ],
   "metadata": {
    "collapsed": false
   },
   "id": "3a882aac2068454e"
  },
  {
   "cell_type": "code",
   "execution_count": 11,
   "outputs": [
    {
     "name": "stdout",
     "output_type": "stream",
     "text": [
      "{'g': 2, 'o': 3, 'l': 1, 'e': 1, '.': 1, 'c': 1, 'm': 1}\n"
     ]
    }
   ],
   "source": [
    "import math\n",
    "\n",
    "words = 'google.com'\n",
    "# Kết quả mong đợi: {'g': 2, 'o': 3, 'l': 1, 'e': 1, '.': 1, 'c': 1, 'm': 1}\n",
    "\n",
    "count_words = {}\n",
    "for word in words:\n",
    "    if word in count_words:\n",
    "        count_words[word] += 1\n",
    "    else:\n",
    "        count_words[word] = 1\n",
    "\n",
    "print(count_words)\n",
    "\n"
   ],
   "metadata": {
    "collapsed": false,
    "ExecuteTime": {
     "end_time": "2023-12-12T03:14:19.395584400Z",
     "start_time": "2023-12-12T03:14:19.391325100Z"
    }
   },
   "id": "a07e9fec7ad45f8d"
  },
  {
   "cell_type": "markdown",
   "source": [
    "# Câu 2: \n",
    "- Viết một hàm Python được đặt tên là “first_diff()” với đầu vào là hai danh sách (list) cùng kích thước và trả về vị trí đầu tiên mà hai danh sách khác nhau. Nếu hai danh sách giống hệt nhau, nó sẽ trả về -1."
   ],
   "metadata": {
    "collapsed": false
   },
   "id": "f6d7db4b0f262dd9"
  },
  {
   "cell_type": "code",
   "execution_count": 13,
   "outputs": [
    {
     "data": {
      "text/plain": "2"
     },
     "execution_count": 13,
     "metadata": {},
     "output_type": "execute_result"
    }
   ],
   "source": [
    "def first_diff(list1, list2):\n",
    "    # list1.len == list2.len\n",
    "    n = len(list1)  # option\n",
    "    for i in range(n):\n",
    "        if list1[i] != list2[i]:\n",
    "            return i\n",
    "    return -1\n",
    "\n",
    "\n",
    "list1 = ['a', 'b', 'c']\n",
    "list2 = ['a', 'b', 'c']\n",
    "first_diff(list1, list2)  # -1\n",
    "\n"
   ],
   "metadata": {
    "collapsed": false,
    "ExecuteTime": {
     "end_time": "2023-12-12T03:17:47.721422400Z",
     "start_time": "2023-12-12T03:17:47.673330Z"
    }
   },
   "id": "407008620587cf3c"
  },
  {
   "cell_type": "markdown",
   "source": [
    "# Câu 3: \n",
    "Viết các lớp Rectangle, Circle có các phương thức lần lượt tính chu vi, diện tích hình chữ nhật, hình tròn. Biết rằng 2 lớp này được kế thừa từ một lớp trừu tượng Shape (Lớp Shape có 2 phương thức trừu tượng: area() và perimeter() tương ứng diện tích, chu vi)\n",
    "### Yêu cầu lập trình:\n",
    "<u>Đối với lớp Rectangle, Circle:</u>\n",
    "+ Các thuộc tính khai báo ở chế độ bảo mật (private)\n",
    "+ Chương trình có sử dụng @property và @setter tương tứng cho các biến"
   ],
   "metadata": {
    "collapsed": false
   },
   "id": "b0327f6672563f3"
  },
  {
   "cell_type": "code",
   "execution_count": 2,
   "outputs": [
    {
     "name": "stdout",
     "output_type": "stream",
     "text": [
      "200\n",
      "60\n",
      "125.66\n",
      "1256.0\n"
     ]
    }
   ],
   "source": [
    "from abc import ABC, abstractmethod\n",
    "import math\n",
    "\n",
    "class Shape(ABC):\n",
    "\n",
    "    @abstractmethod\n",
    "    def calculate_area(self):\n",
    "        pass\n",
    "\n",
    "    @abstractmethod\n",
    "    def calculate_perimeter(self):\n",
    "        pass\n",
    "\n",
    "\n",
    "class Rectangle(Shape):\n",
    "\n",
    "    def __init__(self, width, height):\n",
    "        self.__width = width\n",
    "        self.__height = height\n",
    "\n",
    "    @property\n",
    "    def width(self):\n",
    "        return self.__width\n",
    "\n",
    "    @width.setter\n",
    "    def width(self, width):\n",
    "        if width < 0:\n",
    "            raise ValueError(\"Width can not be less than 0\")\n",
    "        self.__width = width\n",
    "\n",
    "    @property\n",
    "    def height(self):\n",
    "        return self.__height\n",
    "\n",
    "    @height.setter\n",
    "    def height(self, height):\n",
    "        if height < 0:\n",
    "            raise ValueError(\"Height can not be less than 0\")\n",
    "        self.__height = height\n",
    "\n",
    "    def calculate_area(self):\n",
    "        return self.width * self.height\n",
    "\n",
    "    def calculate_perimeter(self):\n",
    "        return 2 * (self.height + self.width)\n",
    "\n",
    "\n",
    "class Circle(Shape):\n",
    "\n",
    "    def __init__(self, radius):\n",
    "        self.__radius = radius\n",
    "\n",
    "    @property\n",
    "    def radius(self):\n",
    "        return self.__radius\n",
    "\n",
    "    @radius.setter\n",
    "    def radius(self, radius):\n",
    "        if radius < 0:\n",
    "            raise ValueError(\"Radius can not be less than 0\")\n",
    "        self.__radius = radius\n",
    "\n",
    "    def calculate_area(self):\n",
    "        return round((self.__radius ** 2 * 3.14), 2)\n",
    "\n",
    "    def calculate_perimeter(self):\n",
    "        return round((2 * math.pi * self.__radius), 2)\n",
    "\n",
    "\n",
    "rectangle = Rectangle(10, 10)\n",
    "rectangle.width = 20\n",
    "print(rectangle.calculate_area())\n",
    "print(rectangle.calculate_perimeter())\n",
    "\n",
    "circle = Circle(20)\n",
    "print(circle.calculate_perimeter())\n",
    "print(circle.calculate_area())"
   ],
   "metadata": {
    "collapsed": false,
    "ExecuteTime": {
     "end_time": "2023-12-12T05:40:06.459610200Z",
     "start_time": "2023-12-12T05:40:06.450198100Z"
    }
   },
   "id": "e936bb053990c400"
  },
  {
   "cell_type": "code",
   "execution_count": null,
   "outputs": [],
   "source": [],
   "metadata": {
    "collapsed": false
   },
   "id": "b129bbbcae6ab5de"
  },
  {
   "cell_type": "markdown",
   "source": [],
   "metadata": {
    "collapsed": false
   },
   "id": "c53d7279ad433da9"
  }
 ],
 "metadata": {
  "kernelspec": {
   "display_name": "Python 3",
   "language": "python",
   "name": "python3"
  },
  "language_info": {
   "codemirror_mode": {
    "name": "ipython",
    "version": 2
   },
   "file_extension": ".py",
   "mimetype": "text/x-python",
   "name": "python",
   "nbconvert_exporter": "python",
   "pygments_lexer": "ipython2",
   "version": "2.7.6"
  }
 },
 "nbformat": 4,
 "nbformat_minor": 5
}
